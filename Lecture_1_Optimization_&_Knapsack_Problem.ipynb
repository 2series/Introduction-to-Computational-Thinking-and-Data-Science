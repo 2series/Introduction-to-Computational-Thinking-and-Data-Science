{
  "nbformat": 4,
  "nbformat_minor": 0,
  "metadata": {
    "colab": {
      "name": "Lecture_1 - Optimization & Knapsack Problem.ipynb",
      "version": "0.3.2",
      "provenance": [],
      "collapsed_sections": []
    },
    "kernelspec": {
      "name": "python3",
      "display_name": "Python 3"
    }
  },
  "cells": [
    {
      "metadata": {
        "id": "pu1w2uanYOw7",
        "colab_type": "text"
      },
      "cell_type": "markdown",
      "source": [
        "## RIHAD VARIAWA\n",
        "### 4-04-2019"
      ]
    },
    {
      "metadata": {
        "id": "NJqN_Cg7WrTK",
        "colab_type": "code",
        "colab": {}
      },
      "cell_type": "code",
      "source": [
        "# Lecture 1\n",
        "\n",
        "class Food(object):\n",
        "    def __init__(self, n, v, w):\n",
        "        self.name = n\n",
        "        self.value = v\n",
        "        self.calories = w\n",
        "        \n",
        "    def getValue(self):\n",
        "        return self.value\n",
        "        \n",
        "    def getCost(self):\n",
        "        return self.calories\n",
        "        \n",
        "    def getDensity(self):\n",
        "        return self.getValue()/self.getCost()\n",
        "        \n",
        "    def __str__(self):\n",
        "        return self.name + ': <' + str(self.value) + ', ' +str(self.calories) + '>'\n",
        "        \n",
        "def buildMenu(names, values, calories):\n",
        "    \"\"\"names, values, calories lists of same length.\n",
        "    name a list of strings\n",
        "    values and calories lists of numbers\n",
        "    returns list of Foods\"\"\"\n",
        "    menu = []\n",
        "    for i in range(len(values)):\n",
        "        menu.append(Food(names[i], values[i], calories[i]))\n",
        "    return menu\n",
        "    \n",
        "def greedy(items, maxCost, keyFunction):\n",
        "    \"\"\"Assumes items a list, maxCost .= 0, keyFunction maps \n",
        "    elements of items to numbers\"\"\"\n",
        "    itemsCopy = sorted(items, key = keyFunction, reverse = True)\n",
        "    \n",
        "    result = []\n",
        "    totalValue, totalCost = 0.0, 0.0\n",
        "    \n",
        "    for i in range(len(itemsCopy)):\n",
        "        if (totalCost+itemsCopy[i].getCost()) <= maxCost:\n",
        "            result.append(itemsCopy[i])\n",
        "            totalCost += itemsCopy[i].getCost()\n",
        "            totalValue += itemsCopy[i].getValue()\n",
        "            \n",
        "    return (result, totalValue)\n",
        "    \n",
        "def testGreedy(items, constraint, keyFunction):\n",
        "    taken, val = greedy(items, constraint, keyFunction)\n",
        "    print('Total value of items taken = ', val)\n",
        "    for item in taken:\n",
        "        print('    ', item)\n",
        "        \n",
        "def testGreedys(foods, maxUnits):\n",
        "    print('use greedy by value to allocate ', maxUnits, 'calories')\n",
        "    testGreedy(foods, maxUnits, Food.getValue)\n",
        "    print('\\nUse greedy by cost to allocate ', maxUnits, 'calories')\n",
        "    testGreedy(foods, maxUnits, lambda x: 1/Food.getCost(x))\n",
        "    print('\\nUse greedy by density to allocate ',maxUnits, ' calories')\n",
        "    testGreedy(foods, maxUnits, Food.getDensity)\n",
        "    "
      ],
      "execution_count": 0,
      "outputs": []
    },
    {
      "metadata": {
        "id": "yoPraHUaYJPE",
        "colab_type": "code",
        "colab": {}
      },
      "cell_type": "code",
      "source": [
        "# Lecture 2\n",
        "\n",
        "def maxVal(toConsider, available):\n",
        "    \"\"\" Assumes toConsider a list of items, asumes available a weight.\n",
        "    Returns a tuple of the total value of a solution to 0/1 Knapsack problem and\n",
        "    the items of that solution\"\"\"\n",
        "    if toConsider == [] or available == 0:\n",
        "        result = (0, ())\n",
        "    elif toConsider[0].getCost() > available:\n",
        "        #Explore right branch only\n",
        "        result = maxVal(toConsider[1:], available)\n",
        "    else:\n",
        "        nextItem = toConsider[0]\n",
        "        #Explore left branch\n",
        "        withVal, withToTake = maxVal(toConsider[1:], available - nextItem.getCost())\n",
        "        withVal += nextItem.getValue()\n",
        "        #Explore right branch\n",
        "        withoutVal, withoutToTake = maxVal(toConsider[1:], available)\n",
        "        \n",
        "        #Choose better branch\n",
        "        if withVal > withoutVal:\n",
        "            result = (withVal, withToTake + (nextItem,))\n",
        "        else:\n",
        "            result = (withoutVal, withoutToTake)\n",
        "    return result\n",
        "\n",
        "def testMaxVal(foods, maxUnits, printItems = True):\n",
        "    print('Use search tree to allocate', maxUnits, 'calories')\n",
        "    val, taken = maxVal(foods, maxUnits)\n",
        "    print('Total value of items taken = ', val)\n",
        "    if printItems:\n",
        "        for item in taken:\n",
        "            print('    ', item)"
      ],
      "execution_count": 0,
      "outputs": []
    },
    {
      "metadata": {
        "id": "uow7j-I_YI-X",
        "colab_type": "code",
        "colab": {
          "base_uri": "https://localhost:8080/",
          "height": 603
        },
        "outputId": "4c6f7ba9-7c07-47d9-d419-dee64494a0cf"
      },
      "cell_type": "code",
      "source": [
        "names = ['wine', 'beer', 'pizza', 'burger', 'fries', 'cola', 'apple', 'donut', 'cake']\n",
        "values = [89, 90, 95,100,90, 79,50, 10]\n",
        "calories = [123,154,258,354,365,150,95,195]\n",
        "foods = buildMenu(names,values,calories)\n",
        "testGreedys(foods, 1000)\n",
        "print('    ')\n",
        "testMaxVal(foods, 1000)"
      ],
      "execution_count": 4,
      "outputs": [
        {
          "output_type": "stream",
          "text": [
            "use greedy by value to allocate  1000 calories\n",
            "Total value of items taken =  424.0\n",
            "     burger: <100, 354>\n",
            "     pizza: <95, 258>\n",
            "     beer: <90, 154>\n",
            "     wine: <89, 123>\n",
            "     apple: <50, 95>\n",
            "\n",
            "Use greedy by cost to allocate  1000 calories\n",
            "Total value of items taken =  413.0\n",
            "     apple: <50, 95>\n",
            "     wine: <89, 123>\n",
            "     cola: <79, 150>\n",
            "     beer: <90, 154>\n",
            "     donut: <10, 195>\n",
            "     pizza: <95, 258>\n",
            "\n",
            "Use greedy by density to allocate  1000  calories\n",
            "Total value of items taken =  413.0\n",
            "     wine: <89, 123>\n",
            "     beer: <90, 154>\n",
            "     cola: <79, 150>\n",
            "     apple: <50, 95>\n",
            "     pizza: <95, 258>\n",
            "     donut: <10, 195>\n",
            "    \n",
            "Use search tree to allocate 1000 calories\n",
            "Total value of items taken =  424\n",
            "     apple: <50, 95>\n",
            "     burger: <100, 354>\n",
            "     pizza: <95, 258>\n",
            "     beer: <90, 154>\n",
            "     wine: <89, 123>\n"
          ],
          "name": "stdout"
        }
      ]
    }
  ]
}