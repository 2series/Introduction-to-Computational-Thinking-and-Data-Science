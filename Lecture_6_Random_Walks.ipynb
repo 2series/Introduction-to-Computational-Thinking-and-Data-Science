{
  "nbformat": 4,
  "nbformat_minor": 0,
  "metadata": {
    "colab": {
      "name": "Lecture_6_Random_Walks.ipynb",
      "version": "0.3.2",
      "provenance": [],
      "collapsed_sections": []
    },
    "kernelspec": {
      "name": "python3",
      "display_name": "Python 3"
    },
    "accelerator": "GPU"
  },
  "cells": [
    {
      "metadata": {
        "id": "Swr5wXZkxCvH",
        "colab_type": "text"
      },
      "cell_type": "markdown",
      "source": [
        "## RIHAD VARIAWA\n",
        "### 17-04-2019"
      ]
    },
    {
      "metadata": {
        "id": "L1Xm522nvJFu",
        "colab_type": "code",
        "colab": {}
      },
      "cell_type": "code",
      "source": [
        "class Location(object):\n",
        "    def __init__(self, x, y):\n",
        "        \"\"\"x and y are floats\"\"\"\n",
        "        self.x = x\n",
        "        self.y = y\n",
        "        \n",
        "    def move(self, deltaX, deltaY):\n",
        "        \"\"\"deltaX and deltaY are floats\"\"\"\n",
        "        return Location(self.x + deltaX, self.y + deltaY)\n",
        "        \n",
        "    def getX(self):\n",
        "        return self.x\n",
        "        \n",
        "    def getY(self):\n",
        "        return self.y\n",
        "    \n",
        "    def distFrom(self,other):\n",
        "        ox = other.x\n",
        "        oy = other.y\n",
        "        xDist = self.x - ox\n",
        "        yDist = self.y - oy\n",
        "        return (xDist**2 + yDist**2)**0.5\n",
        "\n",
        "    def __str__(self):\n",
        "        return '<' + str(self.x) + ', ' + str(self.y) + '>'"
      ],
      "execution_count": 0,
      "outputs": []
    },
    {
      "metadata": {
        "id": "mznjvCywvO4N",
        "colab_type": "code",
        "colab": {}
      },
      "cell_type": "code",
      "source": [
        "class Field(object):\n",
        "    \n",
        "    def __init__(self):\n",
        "        self.drunks = {}\n",
        "\n",
        "    def addDrunk(self, drunk, loc):\n",
        "        if drunk in self.drunks:\n",
        "            raise ValueError('Duplicate drunk')\n",
        "        else:\n",
        "            self.drunks[drunk] = loc\n",
        "\n",
        "    def getLoc(self, drunk):\n",
        "        if drunk not in self.drunks:\n",
        "            raise ValueError('Drunk not in field')\n",
        "        return self.drunks[drunk]\n",
        "\n",
        "    def moveDrunk(self, drunk):\n",
        "        if drunk not in self.drunks:\n",
        "            raise ValueError('Drunk not in field')\n",
        "        xDist, yDist = drunk.takeStep()\n",
        "        currentLocation = self.drunks[drunk]\n",
        "        #Use move method of Location to get new location\n",
        "        self.drunks[drunk] = currentLocation.move(xDist, yDist)\n"
      ],
      "execution_count": 0,
      "outputs": []
    },
    {
      "metadata": {
        "id": "vzuRn9QxvO1g",
        "colab_type": "code",
        "colab": {}
      },
      "cell_type": "code",
      "source": [
        "class Drunk(object):\n",
        "    def __init__(self, name):\n",
        "        self.name = name\n",
        "    \n",
        "    def __str__(self):\n",
        "        return 'This drunk is named ' + self.name"
      ],
      "execution_count": 0,
      "outputs": []
    },
    {
      "metadata": {
        "id": "HpTvMjkkvOzC",
        "colab_type": "code",
        "colab": {}
      },
      "cell_type": "code",
      "source": [
        "import random"
      ],
      "execution_count": 0,
      "outputs": []
    },
    {
      "metadata": {
        "id": "D2Aza5C1vOwN",
        "colab_type": "code",
        "colab": {}
      },
      "cell_type": "code",
      "source": [
        "class UsualDrunk(Drunk):\n",
        "    \n",
        "    def takeStep(self):\n",
        "        stepChoices = [(0.0, 1.0),(0.0,-1.0),(1.0,0.0),(-1.0,0.0)]\n",
        "        return random.choice(stepChoices)"
      ],
      "execution_count": 0,
      "outputs": []
    },
    {
      "metadata": {
        "id": "u1DcJGLevOth",
        "colab_type": "code",
        "colab": {}
      },
      "cell_type": "code",
      "source": [
        "class ColdDrunk(Drunk):\n",
        "    #This is a biased walk: moves more to the south than north\n",
        "    def takeStep(self):\n",
        "        stepChoices = [(0.0, 0.9),(0.0,-1.1),(1.0,0.0),(-1.0,0.0)]\n",
        "        return random.choice(stepChoices)"
      ],
      "execution_count": 0,
      "outputs": []
    },
    {
      "metadata": {
        "id": "3vIq-V09vOqr",
        "colab_type": "code",
        "colab": {}
      },
      "cell_type": "code",
      "source": [
        "def walk(f, d, numSteps):\n",
        "    \"\"\"Assumes: f is a Field, d is a Drunk in f and numSteps is an int >= 0\n",
        "    Moves d numSteps times; returns the distance between the final location \n",
        "    and the location at the start of the walk\"\"\"\n",
        "    start = f.getLoc(d)\n",
        "    for s in range(numSteps):\n",
        "        f.moveDrunk(d)\n",
        "    return start.distFrom(f.getLoc(d))"
      ],
      "execution_count": 0,
      "outputs": []
    },
    {
      "metadata": {
        "id": "sZMg7PuIvOnp",
        "colab_type": "code",
        "colab": {}
      },
      "cell_type": "code",
      "source": [
        "def simWalks(numSteps, numTrials, dClass):\n",
        "    \"\"\"Assumes numSteps an inte >= 0, numTrials an int > 0, dClass is a\n",
        "    subclass of Drunk. The function simulates numTrials walks of numSteps\n",
        "    steps each. Returns a list of the final distances for each trial\"\"\"\n",
        "    Homer = dClass('a')\n",
        "    origin = Location(0,0)\n",
        "    distances = []\n",
        "    for t in range(numTrials):\n",
        "        f = Field()\n",
        "        f.addDrunk(Homer, origin)\n",
        "        distances.append(round(walk(f, Homer, numSteps), 1))\n",
        "    return distances"
      ],
      "execution_count": 0,
      "outputs": []
    },
    {
      "metadata": {
        "id": "_QI8uBdwvOjG",
        "colab_type": "code",
        "colab": {}
      },
      "cell_type": "code",
      "source": [
        "def drunkTest(walkLengths, numTrials, dClass):\n",
        "    \"\"\"Assumes walkLengths is a sequence of ints >= 0, numtrials is an \n",
        "    int > 0 and dClass is a subClass of Drunk. For each number of steps in \n",
        "    walkLengths, runs simWalks with numTrials walks and prints results\"\"\"\n",
        "    for numSteps in walkLengths:\n",
        "        distances = simWalks(numSteps, numTrials, dClass)\n",
        "        print(dClass.__name__, 'random walk of ', numSteps, ' steps')\n",
        "        print('Mean = ',round(sum(distances)/len(distances),4))\n",
        "        print('Max = ', max(distances),' Min = ',min(distances))\n",
        "        print()"
      ],
      "execution_count": 0,
      "outputs": []
    },
    {
      "metadata": {
        "id": "ojfa_6SSv5AO",
        "colab_type": "code",
        "colab": {}
      },
      "cell_type": "code",
      "source": [
        "def simAll(drunkKinds, walkLengths, numTrials):\n",
        "    \"\"\"Assumes drunkKinds is a tuple of different types of drunks\"\"\"\n",
        "    for dClass in drunkKinds:\n",
        "        drunkTest(walkLengths, numTrials, dClass)\n",
        "        print()"
      ],
      "execution_count": 0,
      "outputs": []
    },
    {
      "metadata": {
        "id": "nRWpc6Unv2eV",
        "colab_type": "text"
      },
      "cell_type": "markdown",
      "source": [
        "#### random.seed(0)\n",
        "#### drunkTest((10,100,1000,10000),100,UsualDrunk)\n",
        "#### simAll((UsualDrunk,ColdDrunk),(10,100,1000,10000),100)"
      ]
    },
    {
      "metadata": {
        "id": "e7Betb1SwJ0o",
        "colab_type": "code",
        "colab": {}
      },
      "cell_type": "code",
      "source": [
        "class styleIterator(object):\n",
        "    \n",
        "    def __init__(self, styles):\n",
        "        self.index = 0\n",
        "        self.styles = styles\n",
        "        \n",
        "    def nextStyle(self):\n",
        "        result = self.styles[self.index]\n",
        "        if self.index == len(self.styles) - 1:\n",
        "            self.index = 0\n",
        "        else:\n",
        "            self.index += 1\n",
        "        return result"
      ],
      "execution_count": 0,
      "outputs": []
    },
    {
      "metadata": {
        "id": "Ki9PDtFtv262",
        "colab_type": "code",
        "colab": {}
      },
      "cell_type": "code",
      "source": [
        "import pylab"
      ],
      "execution_count": 0,
      "outputs": []
    },
    {
      "metadata": {
        "id": "b3kX5DyqwKuE",
        "colab_type": "code",
        "colab": {}
      },
      "cell_type": "code",
      "source": [
        "def simDrunk(numTrials, dClass, walkLengths):\n",
        "    meanDistances = []\n",
        "    for numSteps in walkLengths:\n",
        "        print('Starting simualtion of', numSteps, walkLengths)\n",
        "        trials = simWalks(numSteps,numTrials, dClass)\n",
        "        mean = sum(trials)/len(trials)\n",
        "        meanDistances.append(mean)\n",
        "    return meanDistances"
      ],
      "execution_count": 0,
      "outputs": []
    },
    {
      "metadata": {
        "id": "BX4aM_UywKrS",
        "colab_type": "code",
        "colab": {}
      },
      "cell_type": "code",
      "source": [
        "#Reemplazo simAll por una funcion que grafique\n",
        "def simAll(drunkKinds, walkLengths, numTrials):\n",
        "    \"\"\"Assumes drunkKinds is a tuple of different types of drunks\"\"\"\n",
        "    styleChoice = styleIterator(('m-','b--','g-.'))\n",
        "    for dClass in drunkKinds:\n",
        "        curStyle = styleChoice.nextStyle()\n",
        "        print('Starting simulation of ', dClass.__name__)\n",
        "        means = simDrunk(numTrials, dClass, walkLengths)\n",
        "        pylab.plot(walkLengths, means, curStyle, label = dClass.__name__)\n",
        "    pylab.title('Mean distance from origin ('+str(numTrials)+' trials')\n",
        "    pylab.xlabel('Number of steps')\n",
        "    pylab.ylabel('Distance from origin')\n",
        "    pylab.legend(loc= 'best')"
      ],
      "execution_count": 0,
      "outputs": []
    },
    {
      "metadata": {
        "id": "PNUWachbwe9J",
        "colab_type": "text"
      },
      "cell_type": "markdown",
      "source": [
        "#### random.seed(0)\n",
        "#### numSteps = (10,100,1000,10000)\n",
        "#### simAll((UsualDrunk,ColdDrunk),numSteps, 100)"
      ]
    },
    {
      "metadata": {
        "id": "LEgcav1TwKoe",
        "colab_type": "code",
        "colab": {}
      },
      "cell_type": "code",
      "source": [
        "def getFinalLocs(numSteps, numTrials, dClass):\n",
        "    locs = []\n",
        "    d = dClass('a')\n",
        "    for t in range(numTrials):\n",
        "        f = Field()\n",
        "        f.addDrunk(d, Location(0,0))\n",
        "        for s in range(numSteps):\n",
        "            f.moveDrunk(d)\n",
        "        locs.append(f.getLoc(d))\n",
        "    return locs"
      ],
      "execution_count": 0,
      "outputs": []
    },
    {
      "metadata": {
        "id": "tUn6O0c-wKkn",
        "colab_type": "code",
        "colab": {}
      },
      "cell_type": "code",
      "source": [
        "def plotLocs(drunkKinds, numSteps, numTrials):\n",
        "    styleChoice = styleIterator(('k+','r^','mo'))\n",
        "    for dClass in drunkKinds:\n",
        "        locs = getFinalLocs(numSteps, numTrials, dClass)\n",
        "        xVals, yVals = [], []\n",
        "        for loc in locs:\n",
        "            xVals.append(loc.getX())\n",
        "            yVals.append(loc.getY())\n",
        "        xVals = pylab.array(xVals)\n",
        "        yVals = pylab.array(yVals)\n",
        "        meanX = sum(abs(xVals))/len(xVals)\n",
        "        meanY = sum(abs(yVals))/len(yVals)\n",
        "        curStyle = styleChoice.nextStyle()\n",
        "        pylab.plot(xVals, yVals, curStyle, label = dClass.__name__ + ' mean abs dist = < ' + str(meanX) + ', ' +str(meanY) + '>')\n",
        "    pylab.title('Location at End of Walks ('+str(numSteps)+' steps)')\n",
        "    pylab.ylim(-1000,1000)\n",
        "    pylab.xlim(-1000,1000)\n",
        "    pylab.xlabel('Steps East/West of Origin')\n",
        "    pylab.ylabel('Steps North/Soth of Origin')\n",
        "    pylab.legend(loc = 'upper left')\n"
      ],
      "execution_count": 0,
      "outputs": []
    },
    {
      "metadata": {
        "id": "3cT0W4L6wprT",
        "colab_type": "text"
      },
      "cell_type": "markdown",
      "source": [
        "#### random.seed(0)\n",
        "#### plotLocs((UsualDrunk, ColdDrunk), 100000,1000)"
      ]
    },
    {
      "metadata": {
        "id": "SvGT-DjywKfs",
        "colab_type": "code",
        "colab": {}
      },
      "cell_type": "code",
      "source": [
        "class OddField(Field):\n",
        "    \n",
        "    def __init__(self, numHoles = 1000, xRange = 100,yRange = 100):\n",
        "        Field.__init__(self)\n",
        "        self.wormholes = {}\n",
        "        for w in range(numHoles):\n",
        "            x = random.randint(-xRange, xRange)\n",
        "            y = random.randint(-yRange, yRange)\n",
        "            newX = random.randint(-xRange, xRange)\n",
        "            newY = random.randint(-yRange, yRange)\n",
        "            newLoc = Location(newX, newY)\n",
        "            self.wormholes[(x,y)] = newLoc"
      ],
      "execution_count": 0,
      "outputs": []
    },
    {
      "metadata": {
        "id": "zTAnEYpGwsim",
        "colab_type": "code",
        "outputId": "cf0c5461-ca4c-4523-d8e0-ed36ecba105e",
        "colab": {
          "base_uri": "https://localhost:8080/",
          "height": 294
        }
      },
      "cell_type": "code",
      "source": [
        "def traceWalk(fieldKinds, numSteps):\n",
        "    styleChoice = styleIterator(('b+','r^','ko'))\n",
        "    for fClass in fieldKinds:\n",
        "        d = UsualDrunk('a')\n",
        "        f = fClass()\n",
        "        f.addDrunk(d, Location(0,0))\n",
        "        locs = []\n",
        "        for s in range(numSteps):\n",
        "            f.moveDrunk(d)\n",
        "            locs.append(f.getLoc(d))\n",
        "        xVals, yVals = [], []\n",
        "        for loc in locs:\n",
        "            xVals.append(loc.getX())\n",
        "            yVals.append(loc.getY())\n",
        "        curStyle = styleChoice.nextStyle()\n",
        "        pylab.plot(xVals,yVals, curStyle, label = fClass.__name__)\n",
        "        pylab.title('Spots Visited on Walk ('+ str(numSteps) + 'steps)')\n",
        "        pylab.xlabel('Steps East/West of Origin')\n",
        "        pylab.ylabel('Steps North/South of Origin')\n",
        "        pylab.legend(loc = 'best')\n",
        "\n",
        "traceWalk((Field,OddField),10000)"
      ],
      "execution_count": 0,
      "outputs": [
        {
          "output_type": "display_data",
          "data": {
            "image/png": "[encoded data removed]",
            "text/plain": [
              "<Figure size 432x288 with 1 Axes>"
            ]
          },
          "metadata": {
            "tags": []
          }
        }
      ]
    }
  ]
}