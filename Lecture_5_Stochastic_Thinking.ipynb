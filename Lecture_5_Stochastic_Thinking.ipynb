{
  "nbformat": 4,
  "nbformat_minor": 0,
  "metadata": {
    "colab": {
      "name": "Lecture_5_Stochastic_Thinking.ipynb",
      "version": "0.3.2",
      "provenance": []
    },
    "kernelspec": {
      "name": "python3",
      "display_name": "Python 3"
    },
    "accelerator": "GPU"
  },
  "cells": [
    {
      "metadata": {
        "id": "k0NURs-9uSJd",
        "colab_type": "text"
      },
      "cell_type": "markdown",
      "source": [
        "## RIHAD VARIAWA\n",
        "### 17-04-2019"
      ]
    },
    {
      "metadata": {
        "id": "RY7ZkWRZtm2_",
        "colab_type": "code",
        "colab": {}
      },
      "cell_type": "code",
      "source": [
        "import random\n",
        "random.seed(0)"
      ],
      "execution_count": 0,
      "outputs": []
    },
    {
      "metadata": {
        "id": "PVs2OhZrtthK",
        "colab_type": "code",
        "colab": {}
      },
      "cell_type": "code",
      "source": [
        "def rollDie():\n",
        "    return random.choice([1,2,3,4,5,6])"
      ],
      "execution_count": 0,
      "outputs": []
    },
    {
      "metadata": {
        "id": "DdoK49uzttYv",
        "colab_type": "code",
        "colab": {}
      },
      "cell_type": "code",
      "source": [
        "def testRoll(n = 10):\n",
        "    result = ''\n",
        "    for i in range(n):\n",
        "        result = result + str(rollDie())\n",
        "    print(result)"
      ],
      "execution_count": 0,
      "outputs": []
    },
    {
      "metadata": {
        "id": "JA_kUNeat6pg",
        "colab_type": "code",
        "colab": {
          "base_uri": "https://localhost:8080/",
          "height": 52
        },
        "outputId": "45fb0c8a-6981-4e4e-9777-1d566336699d"
      },
      "cell_type": "code",
      "source": [
        "def runSim(goal, numTrials):\n",
        "    total = 0\n",
        "    for i in range(numTrials):\n",
        "        result = ''\n",
        "        for j in range(len(goal)):\n",
        "            result += str(rollDie())\n",
        "        if result == goal:\n",
        "            total += 1\n",
        "    print('Actual probability = ', round(1/(6**len(goal)),8))\n",
        "    estProbability = round(total/numTrials, 8)\n",
        "    print('Estimated Probability = ', round(estProbability,8))   \n",
        "    \n",
        "runSim('11111',10000)"
      ],
      "execution_count": 6,
      "outputs": [
        {
          "output_type": "stream",
          "text": [
            "Actual probability =  0.0001286\n",
            "Estimated Probability =  0.0002\n"
          ],
          "name": "stdout"
        }
      ]
    },
    {
      "metadata": {
        "id": "9L7I420vt6iS",
        "colab_type": "code",
        "colab": {}
      },
      "cell_type": "code",
      "source": [
        "def fracBoxCars(numTests):\n",
        "    numBoxCars = 0\n",
        "    for i in range(numTests):\n",
        "        if rollDie() == 6 and rollDie() == 6:\n",
        "            numBoxCars += 1\n",
        "    return numBoxCars"
      ],
      "execution_count": 0,
      "outputs": []
    },
    {
      "metadata": {
        "id": "1xZP5GuVuAHN",
        "colab_type": "code",
        "colab": {
          "base_uri": "https://localhost:8080/",
          "height": 34
        },
        "outputId": "013b1468-eae2-4bb3-bd9d-8205498dbcde"
      },
      "cell_type": "code",
      "source": [
        "print('Frequency of double 6 = ', str(fracBoxCars(100000)*100) + '%')"
      ],
      "execution_count": 8,
      "outputs": [
        {
          "output_type": "stream",
          "text": [
            "Frequency of double 6 =  270700%\n"
          ],
          "name": "stdout"
        }
      ]
    }
  ]
}