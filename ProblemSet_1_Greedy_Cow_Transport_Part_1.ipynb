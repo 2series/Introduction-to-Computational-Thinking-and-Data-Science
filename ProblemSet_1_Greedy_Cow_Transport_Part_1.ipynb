{
  "nbformat": 4,
  "nbformat_minor": 0,
  "metadata": {
    "colab": {
      "name": "ProblemSet 1 - Greedy Cow Transport - Part 1.ipynb",
      "version": "0.3.2",
      "provenance": [],
      "collapsed_sections": []
    },
    "kernelspec": {
      "name": "python3",
      "display_name": "Python 3"
    }
  },
  "cells": [
    {
      "metadata": {
        "id": "wemJsh2ONiXB",
        "colab_type": "text"
      },
      "cell_type": "markdown",
      "source": [
        "## RIHAD VARIAWA\n",
        "### 5-04-2019\n",
        "\n",
        "### Part 1: Greedy Cow Transport\n",
        "\n",
        "One way of transporting cows is to always pick the heaviest cow that will fit onto the spaceship first. This is an example of a greedy algorithm. So if there are only 2 tons of free space on your spaceship, with one cow that's 3 tons and another that's 1 ton, the 1 ton cow will get put onto the spaceship.\n",
        "\n",
        "Implement a greedy algorithm for transporting the cows back across space in the function greedy_cow_transport. The function returns a list of lists, where each inner list represents a trip and contains the names of cows taken on that trip.\n",
        "\n",
        "#### Note: Make sure not to mutate the dictionary of cows that is passed in!\n",
        "\n",
        "### Assumptions:\n",
        "The order of the list of trips does not matter. That is, [[1,2],[3,4]] and [[3,4],[1,2]] are considered equivalent lists of trips. All the cows are between 0 and 100 tons in weight. All the cows have unique names. If multiple cows weigh the same amount, break ties arbitrarily. The spaceship has a cargo weight limit (in tons), which is passed into the function as a parameter.\n",
        "\n",
        "### Example:\n",
        "Suppose the spaceship has a weight limit of 10 tons and the set of cows to transport is {\"Jesse\": 6, \"Maybel\": 3, \"Callie\": 2, \"Maggie\": 5}. The greedy algorithm will first pick Jesse as the heaviest cow for the first trip. There is still space for 4 tons on the trip. Since Maggie will not fit on this trip, the greedy algorithm picks Maybel, the heaviest cow that will still fit. Now there is only 1 ton of space left, and none of the cows can fit in that space, so the first trip is [Jesse, Maybel]. For the second trip, the greedy algorithm first picks Maggie as the heaviest remaining cow, and then picks Callie as the last cow. Since they will both fit, this makes the second trip [[Maggie], [Callie]]. The final result then is [[\"Jesse\", \"Maybel\"], [\"Maggie\", \"Callie\"]]."
      ]
    },
    {
      "metadata": {
        "id": "ygL7hpxQMpVH",
        "colab_type": "code",
        "colab": {}
      },
      "cell_type": "code",
      "source": [
        "def greedy_cow_transport(cows,limit=10):\n",
        "    \"\"\"\n",
        "    Uses a greedy heuristic to determine an allocation of cows that attempts to\n",
        "    minimize the number of spaceship trips needed to transport all the cows. The\n",
        "    returned allocation of cows may or may not be optimal.\n",
        "    The greedy heuristic should follow the following method:\n",
        "    1. As long as the current trip can fit another cow, add the largest cow that will fit\n",
        "        to the trip\n",
        "    2. Once the trip is full, begin a new trip to transport the remaining cows\n",
        "    Does not mutate the given dictionary of cows.\n",
        "    Parameters:\n",
        "    cows - a dictionary of name (string), weight (int) pairs\n",
        "    limit - weight limit of the spaceship (an int)\n",
        "    \n",
        "    Returns:\n",
        "    A list of lists, with each inner list containing the names of cows\n",
        "    transported on a particular trip and the overall list containing all the\n",
        "    trips\n",
        "    \"\"\"\n",
        "    # TODO: Your code here\n",
        "    cow = sorted(cows,key=cows.get,reverse=True)\n",
        "    result = []\n",
        "    while True:\n",
        "        \n",
        "        trip = []\n",
        "        totalvalue = 0\n",
        "        for i in cow:\n",
        "            \n",
        "            if totalvalue + cows[i] <= limit:\n",
        "                trip.append(i)\n",
        "                totalvalue += cows[i]\n",
        "        \n",
        "        result.append(trip)\n",
        "        temp = []\n",
        "        for i in cow:\n",
        "            if i not in trip:\n",
        "               temp.append(i) \n",
        "        cow = temp\n",
        "        if cow == []:\n",
        "            break\n",
        "\n",
        "    return result"
      ],
      "execution_count": 0,
      "outputs": []
    }
  ]
}