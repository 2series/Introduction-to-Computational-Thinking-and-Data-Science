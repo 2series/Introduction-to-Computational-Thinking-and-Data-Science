{
  "nbformat": 4,
  "nbformat_minor": 0,
  "metadata": {
    "colab": {
      "name": "Lecture 2 - Decision Trees & Dynamic Programming - Exercise 1.ipynb",
      "version": "0.3.2",
      "provenance": [],
      "collapsed_sections": []
    },
    "kernelspec": {
      "name": "python3",
      "display_name": "Python 3"
    },
    "accelerator": "GPU"
  },
  "cells": [
    {
      "metadata": {
        "id": "LOwSwkO8aBDv",
        "colab_type": "text"
      },
      "cell_type": "markdown",
      "source": [
        "## RIHAD VARIAWA\n",
        "### 4-04-2019"
      ]
    },
    {
      "metadata": {
        "id": "zd14hJdvbb8P",
        "colab_type": "text"
      },
      "cell_type": "markdown",
      "source": [
        "For the following problem, consider the following way to write a power set generator. The number of possible combinations to put n items into one bag is . Here, items is a Python list."
      ]
    },
    {
      "metadata": {
        "id": "L_4A5iAWbOkY",
        "colab_type": "code",
        "colab": {}
      },
      "cell_type": "code",
      "source": [
        "# generate all combinations of N items\n",
        "def powerSet(items):\n",
        "    N = len(items)\n",
        "    # enumerate the 2**N possible combinations\n",
        "    for i in range(2**N):\n",
        "        combo = []\n",
        "        for j in range(N):\n",
        "            # test bit jth of integer i\n",
        "            if (i >> j) % 2 == 1:\n",
        "                combo.append(items[j])\n",
        "        yield combo"
      ],
      "execution_count": 0,
      "outputs": []
    },
    {
      "metadata": {
        "id": "OcjXpqBXbl4K",
        "colab_type": "text"
      },
      "cell_type": "markdown",
      "source": [
        "As above, suppose we have a generator that returns every combination of objects in one bag. We can represent this as a list of 1s and 0s denoting whether each item is in the bag or not.\n",
        "\n",
        "Write a generator that returns every arrangement of items such that each is in one or none of two different bags. Each combination should be given as a tuple of two lists, the first being the items in bag1, and the second being the items in bag2."
      ]
    },
    {
      "metadata": {
        "id": "e9XFrBM-cHZh",
        "colab_type": "text"
      },
      "cell_type": "markdown",
      "source": [
        "Note this generator should be pretty similar to the powerSet generator above.\n",
        "\n",
        "We mentioned that the number of possible combinations for N items into one bag is . How many possible combinations exist when there are two bags? Think about this for a few minutes, then click the following hint to confirm if your guess is correct. Remember that a given item can only be in bag1, bag2, or neither bag -- it is not possible for an item to be present in both bags!"
      ]
    },
    {
      "metadata": {
        "id": "W785F5jEWrC8",
        "colab_type": "code",
        "colab": {}
      },
      "cell_type": "code",
      "source": [
        "def yieldAllCombos(items):\n",
        "    \"\"\"\n",
        "        Generates all combinations of N items into two bags, whereby each \n",
        "        item is in one or zero bags.\n",
        "\n",
        "        Yields a tuple, (bag1, bag2), where each bag is represented as a list \n",
        "        of which item(s) are in each bag.\n",
        "    \"\"\"\n",
        "    # Your code here\n",
        "    \n",
        "    N = len(items)\n",
        "    # enumerate the 3**N possible combinations\n",
        "    for i in range(3**N):\n",
        "        bag1 = []\n",
        "        bag2 = []\n",
        "        for j in range(N):\n",
        "            if (i // 3**j) % 3 == 1:\n",
        "                bag1.append(items[j])\n",
        "            elif (i // 3**j) % 3 == 2:\n",
        "                bag2.append(items[j])\n",
        "        yield (bag1, bag2)"
      ],
      "execution_count": 0,
      "outputs": []
    }
  ]
}